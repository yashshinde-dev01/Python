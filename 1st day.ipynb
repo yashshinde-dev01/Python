{
 "cells": [
  {
   "cell_type": "code",
   "execution_count": 14,
   "id": "a140b052-b51d-42b2-a708-84eff005acdf",
   "metadata": {},
   "outputs": [
    {
     "name": "stdout",
     "output_type": "stream",
     "text": [
      "5-6-7&hello"
     ]
    }
   ],
   "source": [
    "a=5\n",
    "b=6\n",
    "c=7\n",
    "print(a,b,c,sep=\"-\",end='&' \"hello\")"
   ]
  },
  {
   "cell_type": "code",
   "execution_count": 12,
   "id": "d24c6721-7fb6-417b-9ea1-a9344ef6faa2",
   "metadata": {},
   "outputs": [
    {
     "name": "stdout",
     "output_type": "stream",
     "text": [
      "11.7\n"
     ]
    },
    {
     "data": {
      "text/plain": [
       "float"
      ]
     },
     "execution_count": 12,
     "metadata": {},
     "output_type": "execute_result"
    }
   ],
   "source": [
    "x=5.7\n",
    "y=6\n",
    "print(x+y)\n",
    "type(x+y)\n",
    "\n",
    "\n",
    "\n",
    "    "
   ]
  },
  {
   "cell_type": "code",
   "execution_count": 19,
   "id": "fe5156d0-f961-479a-a769-ee1377bd3e2a",
   "metadata": {},
   "outputs": [
    {
     "name": "stdout",
     "output_type": "stream",
     "text": [
      "1 5\n"
     ]
    }
   ],
   "source": [
    "a,b,c=1,2,3\n",
    "print(a,b+c)"
   ]
  },
  {
   "cell_type": "markdown",
   "id": "09e9d26b-5535-42cd-a95a-928bc056259c",
   "metadata": {},
   "source": [
    "j=4*8\n",
    "print(j)\n",
    "7+7"
   ]
  },
  {
   "cell_type": "markdown",
   "id": "0b7a2eac-8048-4ed5-887d-74e7fd5817aa",
   "metadata": {},
   "source": [
    "# opretars"
   ]
  }
 ],
 "metadata": {
  "kernelspec": {
   "display_name": "Python 3 (ipykernel)",
   "language": "python",
   "name": "python3"
  },
  "language_info": {
   "codemirror_mode": {
    "name": "ipython",
    "version": 3
   },
   "file_extension": ".py",
   "mimetype": "text/x-python",
   "name": "python",
   "nbconvert_exporter": "python",
   "pygments_lexer": "ipython3",
   "version": "3.13.3"
  }
 },
 "nbformat": 4,
 "nbformat_minor": 5
}
