{
 "cells": [
  {
   "cell_type": "markdown",
   "id": "578e51b2-5f8f-4d8e-aff3-267622ae1d2c",
   "metadata": {},
   "source": [
    "# string"
   ]
  },
  {
   "cell_type": "code",
   "execution_count": 4,
   "id": "0e9521c0-7aa0-4ce8-a751-7c98b5103f14",
   "metadata": {},
   "outputs": [
    {
     "name": "stdout",
     "output_type": "stream",
     "text": [
      "r\n"
     ]
    }
   ],
   "source": [
    "s1=\"mysirg\"\n",
    "print(s1[-2])\n"
   ]
  },
  {
   "cell_type": "code",
   "execution_count": 10,
   "id": "b52a0388-4e2c-4090-afa5-778ab159dd53",
   "metadata": {},
   "outputs": [
    {
     "name": "stdout",
     "output_type": "stream",
     "text": [
      "p        h        y        t        h        o        n                 d        e        v        e        l        o        p        e        r        "
     ]
    }
   ],
   "source": [
    "s2=\"phython developer\"\n",
    "for h in s2:\n",
    "    print(h,end ='        ')"
   ]
  },
  {
   "cell_type": "code",
   "execution_count": 16,
   "id": "e4ea6047-48ff-4bdd-82f8-7966768ce21a",
   "metadata": {},
   "outputs": [
    {
     "name": "stdout",
     "output_type": "stream",
     "text": [
      "28\n",
      "<class 'str'>\n",
      " \n",
      "y\n",
      "[' ', ' ', ' ', ' ', ' ', 'a', 'a', 'd', 'e', 'e', 'e', 'h', 'h', 'h', 'i', 'i', 'l', 'l', 'm', 'm', 'n', 'n', 'o', 's', 's', 's', 'y', 'y']\n"
     ]
    }
   ],
   "source": [
    "s3=\"hello my name is yash shinde\"\n",
    "print(len(s3))\n",
    "print(type(s3))\n",
    "print(min(s3))\n",
    "print(max(s3))\n",
    "print(sorted(s3))"
   ]
  },
  {
   "cell_type": "code",
   "execution_count": 18,
   "id": "9e83fb5f-2daf-40e7-97ca-f1385f24edb1",
   "metadata": {},
   "outputs": [
    {
     "name": "stdout",
     "output_type": "stream",
     "text": [
      "abcdefgh\n",
      "abcdabcd\n"
     ]
    }
   ],
   "source": [
    "s1=\"abcd\"\n",
    "s2=\"efgh\"\n",
    "print(s1+s2)\n",
    "print(s1*2)"
   ]
  },
  {
   "cell_type": "code",
   "execution_count": 26,
   "id": "4227e2a2-81e5-4c11-9ab7-25f7572d1615",
   "metadata": {},
   "outputs": [
    {
     "data": {
      "text/plain": [
       "True"
      ]
     },
     "execution_count": 26,
     "metadata": {},
     "output_type": "execute_result"
    }
   ],
   "source": [
    "s3=\"codewith harry\"\n",
    "s4=\"mysirji\"\n",
    "s4>s3"
   ]
  },
  {
   "cell_type": "code",
   "execution_count": 4,
   "id": "40316c0b-549d-47a8-a662-99a2c625403c",
   "metadata": {},
   "outputs": [
    {
     "name": "stdout",
     "output_type": "stream",
     "text": [
      "18\n"
     ]
    }
   ],
   "source": [
    "s1=\"today is goood day\"\n",
    "print(len(s1))"
   ]
  },
  {
   "cell_type": "code",
   "execution_count": 19,
   "id": "ffe44ed2-a607-4f92-900a-20f70a98a0e6",
   "metadata": {},
   "outputs": [
    {
     "name": "stdout",
     "output_type": "stream",
     "text": [
      "11\n",
      "2\n",
      "12\n",
      "True\n",
      "False\n",
      "True\n",
      "True\n",
      "False\n",
      "I AM GOING BE AN A TOP 1% ENGINEER AND 1% EARNER \n"
     ]
    }
   ],
   "source": [
    "s2=\"i am going be an a top 1% engineer and 1% earner \"\n",
    "print(s2.index(\"be\"))\n",
    "print(s2.count('1%'))\n",
    "print(s2.count(' '))\n",
    "print(s2.startswith(\"i\"))\n",
    "print(s2.endswith(\"earner\"))\n",
    "print(s2.endswith(\" \"))\n",
    "print(s2.islower())\n",
    "print(s2.isupper())\n",
    "print(s2.upper())\n",
    "\n"
   ]
  },
  {
   "cell_type": "code",
   "execution_count": 22,
   "id": "6164aa58-b285-4647-8758-4e451fb9a107",
   "metadata": {},
   "outputs": [
    {
     "name": "stdout",
     "output_type": "stream",
     "text": [
      "my sirg has provided good content\n",
      "My sirg have provided good content\n"
     ]
    }
   ],
   "source": [
    "s3=\"My sirg has provided good content\"\n",
    "print(s3.replace('M','m'))\n",
    "print(s3.replace(\"has\",\"have\"))"
   ]
  },
  {
   "cell_type": "code",
   "execution_count": 26,
   "id": "c579cca0-af12-44e4-ae87-e2d281bc00be",
   "metadata": {},
   "outputs": [
    {
     "name": "stdout",
     "output_type": "stream",
     "text": [
      "value of a is 19 and b is 38 and their sum is 57\n",
      "sum of 10 and 20 is 30\n",
      "yash how are you?\n"
     ]
    }
   ],
   "source": [
    "a=19\n",
    "b=38\n",
    "s3=\"value of a is {} and b is {} and their sum is {}\"\n",
    "print(s3.format(19,38,57))\n",
    "a=10\n",
    "b=20\n",
    "s3=\"sum of {} and {} is {}\"\n",
    "print(s3.format(a,b,a+b))\n",
    "s1=\"yash\"\n",
    "s2=\"{} how are you?\"\n",
    "print(s2.format(s1))"
   ]
  },
  {
   "cell_type": "code",
   "execution_count": 35,
   "id": "7958d39d-3bb7-418b-9cb3-5f1b8eacea5c",
   "metadata": {},
   "outputs": [
    {
     "name": "stdout",
     "output_type": "stream",
     "text": [
      "['', 'hello', 'my', 'dear', 'firiends']\n",
      "[' hello my dear firiends']\n"
     ]
    },
    {
     "name": "stdin",
     "output_type": "stream",
     "text": [
      "enter a numberk seperated by comma 2 3 4\n"
     ]
    }
   ],
   "source": [
    "s1=\" hello my dear firiends\"\n",
    "print(s1.split(\" \"))\n",
    "print(s1.split('$'))\n",
    "s2= input(\"enter a numberk seperated by comma\")\n"
   ]
  },
  {
   "cell_type": "code",
   "execution_count": 38,
   "id": "f633e907-ac0c-4b87-9841-6b7fc022266e",
   "metadata": {},
   "outputs": [],
   "source": [
    "s2=[\"mysierg\",\"is\",\"outstanding\"]\n",
    "s3=\"-\".join(s2)"
   ]
  }
 ],
 "metadata": {
  "kernelspec": {
   "display_name": "Python 3 (ipykernel)",
   "language": "python",
   "name": "python3"
  },
  "language_info": {
   "codemirror_mode": {
    "name": "ipython",
    "version": 3
   },
   "file_extension": ".py",
   "mimetype": "text/x-python",
   "name": "python",
   "nbconvert_exporter": "python",
   "pygments_lexer": "ipython3",
   "version": "3.13.3"
  }
 },
 "nbformat": 4,
 "nbformat_minor": 5
}
