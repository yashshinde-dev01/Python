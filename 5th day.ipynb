{
 "cells": [
  {
   "cell_type": "markdown",
   "id": "b525db0e-475d-4b55-b4ff-065feef795ae",
   "metadata": {},
   "source": [
    "# dictionary"
   ]
  },
  {
   "cell_type": "code",
   "execution_count": 1,
   "id": "217f113d-c513-4538-8efa-57f33ff86bfa",
   "metadata": {},
   "outputs": [
    {
     "name": "stdout",
     "output_type": "stream",
     "text": [
      "{11: 'yash', 16: 'krushna', 18: 'ritesh', 19: 'om'}\n"
     ]
    }
   ],
   "source": [
    "d1={ 11:'yash',16:'krushna',18:'ritesh',19:'om'}\n",
    "print(d1)"
   ]
  },
  {
   "cell_type": "code",
   "execution_count": 8,
   "id": "dec4fbd8-672f-461c-a546-798bbe609e5c",
   "metadata": {},
   "outputs": [
    {
     "name": "stdout",
     "output_type": "stream",
     "text": [
      "<class 'dict'>\n",
      "{'a': 'abhi', 'b': 'bhibi', 'c': 'chuchi'}\n"
     ]
    }
   ],
   "source": [
    "d2={}\n",
    "print(type(d2))\n",
    "d3=dict(a=\"abhi\",b=\"bhibi\",c='chuchi')\n",
    "print(d3)\n"
   ]
  },
  {
   "cell_type": "code",
   "execution_count": 12,
   "id": "ec5cc2a3-da26-4e18-883d-627f03654554",
   "metadata": {},
   "outputs": [
    {
     "name": "stdout",
     "output_type": "stream",
     "text": [
      "yash om\n",
      "11 yash\n",
      "16 krushna\n",
      "18 ritesh\n",
      "19 om\n",
      "{11: 'yash', 16: 'radha rani', 18: 'ritesh', 19: 'om'}\n"
     ]
    }
   ],
   "source": [
    "d6={11:'yash',16:'krushna',18:'ritesh',19:'om'}\n",
    "print(d4[11],d4[19])\n",
    "for k in d4:\n",
    "    print(k,d4[k])\n",
    "d4[16]='radha rani'\n",
    "print(d4)"
   ]
  },
  {
   "cell_type": "code",
   "execution_count": 27,
   "id": "06917c3a-2d42-467d-a341-45a260ce2447",
   "metadata": {},
   "outputs": [
    {
     "name": "stdout",
     "output_type": "stream",
     "text": [
      "dict_keys([1, 2, 3, 4])\n",
      "dict_values(['radha rani', 'krishna', 'mammi', 'brother'])\n",
      "dict_items([(1, 'radha rani'), (2, 'krishna'), (3, 'mammi'), (4, 'brother')])\n"
     ]
    }
   ],
   "source": [
    "d6={1:\"radha rani\",2:\"krishna\",3:\"mammi\",4:\"brother\"}\n",
    "print(d5.keys())\n",
    "print(d5.values())\n",
    "print(d5.items())\n"
   ]
  },
  {
   "cell_type": "code",
   "execution_count": 36,
   "id": "80d33985-3604-458b-ac2d-fe3bd4fd6066",
   "metadata": {},
   "outputs": [
    {
     "name": "stdout",
     "output_type": "stream",
     "text": [
      "4\n",
      "90\n",
      "23\n",
      "198\n",
      "[23, 38, 47, 90]\n",
      "krushna\n",
      "(19, 'om')\n",
      "None\n"
     ]
    }
   ],
   "source": [
    "d6={23:\"yash\",38:\"mahesh\",47:\"ramesh\",90:\"raghav\"}\n",
    "d1={ 11:'yash',16:'krushna',18:'ritesh',19:'om'}\n",
    "\n",
    "print(len(d6))\n",
    "#print(d6.index(23))\n",
    "print(max(d6))\n",
    "print(min(d6))\n",
    "print(sum(d6))\n",
    "print(sorted(d6))\n",
    "d6==d1\n",
    "print(d1.pop(16))\n",
    "print(d1.popitem())\n",
    "m=d6.clear()\n",
    "print(m)\n",
    "\n",
    "\n",
    "\n",
    "      "
   ]
  },
  {
   "cell_type": "code",
   "execution_count": 37,
   "id": "3d6fc3b1-8625-400b-828b-f62f858467e2",
   "metadata": {},
   "outputs": [
    {
     "name": "stdout",
     "output_type": "stream",
     "text": [
      "{1: 1, 2: 4, 3: 9, 4: 16, 5: 25, 6: 36, 7: 49}\n"
     ]
    }
   ],
   "source": [
    "d7={a:a**2 for a in range(1,8,1)}\n",
    "print(d7)"
   ]
  },
  {
   "cell_type": "code",
   "execution_count": null,
   "id": "840527e2-363d-4086-a205-277f0ad145fb",
   "metadata": {},
   "outputs": [],
   "source": []
  }
 ],
 "metadata": {
  "kernelspec": {
   "display_name": "Python 3 (ipykernel)",
   "language": "python",
   "name": "python3"
  },
  "language_info": {
   "codemirror_mode": {
    "name": "ipython",
    "version": 3
   },
   "file_extension": ".py",
   "mimetype": "text/x-python",
   "name": "python",
   "nbconvert_exporter": "python",
   "pygments_lexer": "ipython3",
   "version": "3.13.3"
  }
 },
 "nbformat": 4,
 "nbformat_minor": 5
}
