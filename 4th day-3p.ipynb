{
 "cells": [
  {
   "cell_type": "markdown",
   "id": "c8c60411-c191-40f3-9390-067e0c4073f0",
   "metadata": {},
   "source": [
    "# set"
   ]
  },
  {
   "cell_type": "code",
   "execution_count": 1,
   "id": "a5384e6e-c186-45f8-a596-8a814468be8f",
   "metadata": {},
   "outputs": [
    {
     "name": "stdout",
     "output_type": "stream",
     "text": [
      "<class 'set'>\n",
      "{1, 2, 3, 4, 5}\n"
     ]
    }
   ],
   "source": [
    "s={ 1,2,3,4,5}\n",
    "print(type(s))\n",
    "print(s)\n"
   ]
  },
  {
   "cell_type": "code",
   "execution_count": 4,
   "id": "92530a64-8728-4a29-9340-da76d414efe5",
   "metadata": {},
   "outputs": [
    {
     "name": "stdout",
     "output_type": "stream",
     "text": [
      "<class 'set'>\n"
     ]
    }
   ],
   "source": [
    "s1=set()\n",
    "print(type(s1))\n"
   ]
  },
  {
   "cell_type": "code",
   "execution_count": 8,
   "id": "2a266934-141d-422e-bdc8-f0ff380eec48",
   "metadata": {},
   "outputs": [
    {
     "name": "stdout",
     "output_type": "stream",
     "text": [
      "{'a', 'r', 'i', ' ', 'b', 'y', 'h'}\n",
      "{40, 10, 20, 30}\n"
     ]
    }
   ],
   "source": [
    "s2=set(\"harry bhi\")\n",
    "print(s2)\n",
    "s3=set([10,20,30,40])\n",
    "print(s3)"
   ]
  },
  {
   "cell_type": "code",
   "execution_count": 11,
   "id": "4143160c-0106-46ca-b614-5dda683d8266",
   "metadata": {},
   "outputs": [
    {
     "name": "stdout",
     "output_type": "stream",
     "text": [
      "58\n",
      "39\n",
      "57\n",
      "10\n",
      "29\n"
     ]
    }
   ],
   "source": [
    "s4={ 10,29,39,57,58}\n",
    "for e in s4:\n",
    "    print(e)\n"
   ]
  },
  {
   "cell_type": "code",
   "execution_count": 12,
   "id": "2c2c762e-1adf-4760-a411-0e5b6fb21acd",
   "metadata": {},
   "outputs": [
    {
     "name": "stdout",
     "output_type": "stream",
     "text": [
      "12\n",
      "77\n",
      "4\n",
      "[12, 13, 36, 77]\n"
     ]
    }
   ],
   "source": [
    "s5={ 12, 13 ,36,77}\n",
    "print(min(s5))\n",
    "print(max(s5))\n",
    "print(len(s5))\n",
    "print(sorted(s5))\n"
   ]
  },
  {
   "cell_type": "code",
   "execution_count": 23,
   "id": "55dba14f-bb48-41f6-999b-71726483abd3",
   "metadata": {},
   "outputs": [
    {
     "name": "stdout",
     "output_type": "stream",
     "text": [
      "None\n"
     ]
    }
   ],
   "source": [
    "s6={10,22,30,5,7}\n",
    "print(s6.add(1))\n"
   ]
  },
  {
   "cell_type": "code",
   "execution_count": 26,
   "id": "1af33e19-b7d7-49a5-84a1-e0f88ebfdec0",
   "metadata": {},
   "outputs": [
    {
     "ename": "_IncompleteInputError",
     "evalue": "incomplete input (953195153.py, line 2)",
     "output_type": "error",
     "traceback": [
      "  \u001b[36mCell\u001b[39m\u001b[36m \u001b[39m\u001b[32mIn[26]\u001b[39m\u001b[32m, line 2\u001b[39m\n\u001b[31m    \u001b[39m\u001b[31mprint(s7.update(12)\u001b[39m\n                       ^\n\u001b[31m_IncompleteInputError\u001b[39m\u001b[31m:\u001b[39m incomplete input\n"
     ]
    }
   ],
   "source": [
    "s7={14,13,21,11,18,19,16,111}\n",
    "print(s7.update(12)"
   ]
  },
  {
   "cell_type": "code",
   "execution_count": 31,
   "id": "a7e5bc35-4f25-4ca0-9e0c-24da8e36a2b0",
   "metadata": {},
   "outputs": [
    {
     "name": "stdout",
     "output_type": "stream",
     "text": [
      "None\n",
      "None\n"
     ]
    }
   ],
   "source": [
    "s8={1,5,86,44,99,33,56}\n",
    "print(s8.remove(44))\n",
    "print(s8.clear())"
   ]
  },
  {
   "cell_type": "code",
   "execution_count": null,
   "id": "44242ec7-305e-4589-9ba8-4fb182c66afa",
   "metadata": {},
   "outputs": [],
   "source": []
  }
 ],
 "metadata": {
  "kernelspec": {
   "display_name": "Python 3 (ipykernel)",
   "language": "python",
   "name": "python3"
  },
  "language_info": {
   "codemirror_mode": {
    "name": "ipython",
    "version": 3
   },
   "file_extension": ".py",
   "mimetype": "text/x-python",
   "name": "python",
   "nbconvert_exporter": "python",
   "pygments_lexer": "ipython3",
   "version": "3.13.3"
  }
 },
 "nbformat": 4,
 "nbformat_minor": 5
}
