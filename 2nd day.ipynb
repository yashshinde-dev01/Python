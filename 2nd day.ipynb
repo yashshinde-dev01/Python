{
 "cells": [
  {
   "cell_type": "code",
   "execution_count": 3,
   "id": "a4d3adbf-fd65-426d-a264-bf70276c83aa",
   "metadata": {},
   "outputs": [
    {
     "name": "stdout",
     "output_type": "stream",
     "text": [
      "m 109\n",
      "y 121\n",
      "s 115\n",
      "i 105\n",
      "r 114\n",
      "g 103\n"
     ]
    }
   ],
   "source": [
    "s1=\"mysirg\"\n",
    "for a in s1:\n",
    "    print(a,ord(a))\n",
    "    "
   ]
  },
  {
   "cell_type": "code",
   "execution_count": 5,
   "id": "aaa94e30-0517-44d7-b0d1-e4e6af1a254d",
   "metadata": {},
   "outputs": [
    {
     "name": "stdout",
     "output_type": "stream",
     "text": [
      "yash\n",
      "yash\n",
      "yash\n",
      "yash\n"
     ]
    }
   ],
   "source": [
    "m=\"yash\"\n",
    "for i in m:\n",
    "    print(m)"
   ]
  },
  {
   "cell_type": "code",
   "execution_count": 6,
   "id": "0fc3d97b-d64d-48bf-b8d6-3b6cb5d1fd2e",
   "metadata": {},
   "outputs": [
    {
     "name": "stdout",
     "output_type": "stream",
     "text": [
      "yash\n",
      "subhash\n",
      "shinde\n"
     ]
    }
   ],
   "source": [
    "names=[\"yash\",\"subhash\",\"shinde\"]\n",
    "for name in names:\n",
    "    print(name)\n",
    "    "
   ]
  },
  {
   "cell_type": "code",
   "execution_count": 9,
   "id": "887f27f2-414a-45ae-b8a1-5669a6013540",
   "metadata": {},
   "outputs": [
    {
     "name": "stdin",
     "output_type": "stream",
     "text": [
      "enter a values 17\n"
     ]
    },
    {
     "name": "stdout",
     "output_type": "stream",
     "text": [
      "17\n",
      "34\n",
      "51\n",
      "68\n",
      "85\n",
      "102\n",
      "119\n",
      "136\n",
      "153\n",
      "170\n"
     ]
    }
   ],
   "source": [
    "a=range(1,11)\n",
    "b=int(input(\"enter a values\"))\n",
    "for i in a:\n",
    "    i=i*b\n",
    "    print(i)\n",
    "    "
   ]
  },
  {
   "cell_type": "code",
   "execution_count": 22,
   "id": "23077ca9-e1c0-47e2-971b-9c9d6b19f209",
   "metadata": {},
   "outputs": [
    {
     "name": "stdin",
     "output_type": "stream",
     "text": [
      "enter a number 5\n"
     ]
    },
    {
     "name": "stdout",
     "output_type": "stream",
     "text": [
      "1\n",
      "2\n",
      "6\n",
      "24\n",
      "120\n"
     ]
    }
   ],
   "source": [
    "b=int(input(\"enter a number\"))\n",
    "\n",
    "a=range(1,b+1)\n",
    "factorial=1\n",
    "for i in a:\n",
    "    factorial=factorial*i\n",
    "    print(factorial)\n",
    "    "
   ]
  },
  {
   "cell_type": "code",
   "execution_count": 17,
   "id": "735bd068-10cb-4cbc-8c8b-a567830ed2a5",
   "metadata": {},
   "outputs": [
    {
     "name": "stdin",
     "output_type": "stream",
     "text": [
      "Enter a number:  5\n"
     ]
    },
    {
     "name": "stdout",
     "output_type": "stream",
     "text": [
      "The factorial of 5 is 120.\n"
     ]
    }
   ],
   "source": [
    "# Factorial using a for loop\n",
    "\n",
    "# Input from the user\n",
    "num = int(input(\"Enter a number: \"))\n",
    "\n",
    "# Initialize factorial to 1\n",
    "factorial = 1\n",
    "\n",
    "# Check if the number is negative\n",
    "if num < 0:\n",
    "    print(\"Factorial does not exist for negative numbers.\")\n",
    "elif num == 0:\n",
    "    print(\"The factorial of 0 is 1.\")\n",
    "else:\n",
    "    for i in range(1, num + 1):\n",
    "        factorial *= i\n",
    "    print(f\"The factorial of {num} is {factorial}.\")\n"
   ]
  },
  {
   "cell_type": "code",
   "execution_count": 28,
   "id": "130a4130-c94c-42d4-b7b9-7eee4abdfe61",
   "metadata": {},
   "outputs": [
    {
     "name": "stdin",
     "output_type": "stream",
     "text": [
      "Enter a number:  5\n"
     ]
    },
    {
     "name": "stdout",
     "output_type": "stream",
     "text": [
      "The factorial of 5 is 120.\n"
     ]
    }
   ],
   "source": [
    "num = int(input(\"Enter a number: \"))\n",
    "\n",
    "# Initialize factorial to 1\n",
    "factorial = 1\n",
    "for i in range(1, num + 1):\n",
    "        factorial *= i\n",
    "print(f\"The factorial of {num} is {factorial}.\")\n",
    "\n"
   ]
  },
  {
   "cell_type": "code",
   "execution_count": 34,
   "id": "f1bcf1a3-ac25-4547-b72e-9549ee8ab86e",
   "metadata": {},
   "outputs": [
    {
     "name": "stdin",
     "output_type": "stream",
     "text": [
      "enter a number 11\n"
     ]
    },
    {
     "name": "stdout",
     "output_type": "stream",
     "text": [
      "number is prime \n"
     ]
    }
   ],
   "source": [
    "a=int(input(\"enter a number\"))\n",
    "b=range(1,a+1)\n",
    "count=0\n",
    "for i in b:\n",
    "    if(a%i==0):\n",
    "        count=count+1\n",
    "if(count==2):\n",
    "    print(\"number is prime \")\n",
    "else:\n",
    "    print(\"number is not prime\")\n",
    "    \n"
   ]
  },
  {
   "cell_type": "code",
   "execution_count": 36,
   "id": "be370514-2f1e-433f-b743-6bd30bd9c238",
   "metadata": {},
   "outputs": [
    {
     "name": "stdin",
     "output_type": "stream",
     "text": [
      "enter a number 4\n"
     ]
    },
    {
     "name": "stdout",
     "output_type": "stream",
     "text": [
      "1\n",
      "3\n",
      "6\n",
      "10\n"
     ]
    }
   ],
   "source": [
    "n=int(input(\"enter a number\"))\n",
    "a=range(1,n+1)\n",
    "sum=0\n",
    "for i in a:\n",
    "    sum=sum+i\n",
    "    print(sum)\n",
    "    \n",
    "    \n"
   ]
  },
  {
   "cell_type": "code",
   "execution_count": 37,
   "id": "919a57ee-91a2-449b-b636-cd4fb58b2829",
   "metadata": {},
   "outputs": [
    {
     "name": "stdin",
     "output_type": "stream",
     "text": [
      "enter a num 7\n"
     ]
    },
    {
     "name": "stdout",
     "output_type": "stream",
     "text": [
      "number is odd\n"
     ]
    }
   ],
   "source": [
    "b=int(input(\"enter a num\"))\n",
    "if(b%2==0):\n",
    "    print(\"number is evenn\")\n",
    "else:\n",
    "    print(\"number is odd\")\n",
    "\n",
    "    \n"
   ]
  },
  {
   "cell_type": "code",
   "execution_count": null,
   "id": "d43df6f0-d9e1-4003-986f-f327551eb2f0",
   "metadata": {},
   "outputs": [],
   "source": []
  }
 ],
 "metadata": {
  "kernelspec": {
   "display_name": "Python 3 (ipykernel)",
   "language": "python",
   "name": "python3"
  },
  "language_info": {
   "codemirror_mode": {
    "name": "ipython",
    "version": 3
   },
   "file_extension": ".py",
   "mimetype": "text/x-python",
   "name": "python",
   "nbconvert_exporter": "python",
   "pygments_lexer": "ipython3",
   "version": "3.13.3"
  }
 },
 "nbformat": 4,
 "nbformat_minor": 5
}
