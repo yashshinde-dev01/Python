{
 "cells": [
  {
   "cell_type": "markdown",
   "id": "b925135f-651f-4eaa-bd38-6e3b88f2af1b",
   "metadata": {},
   "source": [
    "# list countinue....."
   ]
  },
  {
   "cell_type": "code",
   "execution_count": 2,
   "id": "bc7ddbdc-bb77-4748-bd12-cebf85f55793",
   "metadata": {},
   "outputs": [
    {
     "name": "stdout",
     "output_type": "stream",
     "text": [
      "[10, 20, 30, 40, 50, 60]\n"
     ]
    }
   ],
   "source": [
    "l4=[10,20,30,40,50]\n",
    "l4.append(60)\n",
    "print(l4)\n",
    "\n",
    "\n"
   ]
  },
  {
   "cell_type": "code",
   "execution_count": 13,
   "id": "e437390a-2e69-4e30-b420-f6f9ace37f74",
   "metadata": {},
   "outputs": [
    {
     "name": "stdout",
     "output_type": "stream",
     "text": [
      "[10, 20, 30, 70, 40, 50, 60]\n"
     ]
    }
   ],
   "source": [
    "l5=[10,20,30,40,50,60]\n",
    "l5.insert(-3,70)\n",
    "print(l5)"
   ]
  },
  {
   "cell_type": "code",
   "execution_count": 14,
   "id": "d1ac3b53-ffb2-48a3-9be2-a906f8518fba",
   "metadata": {},
   "outputs": [
    {
     "name": "stdout",
     "output_type": "stream",
     "text": [
      "8\n",
      "99\n",
      "11\n",
      "418\n",
      "[11, 22, 33, 44, 55, 66, 88, 99]\n"
     ]
    }
   ],
   "source": [
    "l6=[88,99,55,66,44,33,22,11]\n",
    "print(len(l6))\n",
    "print(max(l6))\n",
    "print(min(l6))\n",
    "print(sum(l6))\n",
    "print(sorted(l6))"
   ]
  },
  {
   "cell_type": "code",
   "execution_count": 27,
   "id": "9c430fcb-e50e-4305-94c1-52a0963b26ae",
   "metadata": {},
   "outputs": [
    {
     "name": "stdout",
     "output_type": "stream",
     "text": [
      "list[1, 2, 3, 4, 5, 6, 7, 8, 9]\n"
     ]
    }
   ],
   "source": [
    "l6=list()\n",
    "l6=list(\"mysirg\")\n",
    "l6=list(range(5))\n",
    "l6=list[1,2,3,4,5,6,7,8,9,]\n",
    "print(l6)"
   ]
  },
  {
   "cell_type": "code",
   "execution_count": 33,
   "id": "3e40e5c7-6df9-41e7-9aa6-1d1613982d1e",
   "metadata": {},
   "outputs": [
    {
     "name": "stdout",
     "output_type": "stream",
     "text": [
      "True\n",
      "True\n",
      "False\n",
      "[1, 2, 3, 4, 5, 1, 2, 4, 5]\n"
     ]
    }
   ],
   "source": [
    "l1=[1,2,3,4,5]\n",
    "l2=[1,2,3,4,5]\n",
    "l3=[1,2,4,5]\n",
    "l4=[1,2,3,4,5,6,7]\n",
    "print(l1==l2)\n",
    "print(l4>l2)\n",
    "print(l3==l4)\n",
    "print(l1+l3)\n",
    "\n"
   ]
  },
  {
   "cell_type": "code",
   "execution_count": 34,
   "id": "41af7b86-594f-4b40-beda-14725fde398d",
   "metadata": {},
   "outputs": [
    {
     "name": "stdout",
     "output_type": "stream",
     "text": [
      "[2, 4, 5, 2, 4, 5, 2, 4, 5]\n"
     ]
    }
   ],
   "source": [
    "l8=[2,4,5]\n",
    "l4=l8*3\n",
    "print(l4)\n"
   ]
  },
  {
   "cell_type": "code",
   "execution_count": 39,
   "id": "11a42c1e-6c33-4880-a853-bb8faab5f201",
   "metadata": {},
   "outputs": [
    {
     "name": "stdout",
     "output_type": "stream",
     "text": [
      "3\n",
      "8\n"
     ]
    }
   ],
   "source": [
    "l9=[[1,2,3],[4,5,6],[7,8,9]]\n",
    "print(l9[0][2])\n",
    "print(l9[2][1])"
   ]
  },
  {
   "cell_type": "code",
   "execution_count": 45,
   "id": "06f3aceb-a403-4996-8757-49888d3280ca",
   "metadata": {},
   "outputs": [
    {
     "name": "stdout",
     "output_type": "stream",
     "text": [
      "[50, 30]\n"
     ]
    }
   ],
   "source": [
    "l10=[50,10,20,30]\n",
    "l10.remove(20)\n",
    "l10.pop(1)\n",
    "print(l10)"
   ]
  },
  {
   "cell_type": "code",
   "execution_count": 46,
   "id": "eb6ac935-0c44-4457-880b-f13801f8613d",
   "metadata": {},
   "outputs": [
    {
     "name": "stdout",
     "output_type": "stream",
     "text": [
      "40\n",
      "[10, 20, 30]\n"
     ]
    }
   ],
   "source": [
    "nums = [10, 20, 30, 40]\n",
    "x = nums.pop()\n",
    "print(x)       # Output: 40\n",
    "print(nums)    # Output: [10, 20, 30]\n"
   ]
  },
  {
   "cell_type": "code",
   "execution_count": 65,
   "id": "30eb58e9-f814-437b-a80a-b2be34bf76c4",
   "metadata": {},
   "outputs": [
    {
     "name": "stdout",
     "output_type": "stream",
     "text": [
      "1\n",
      "[5, 4, 3, 2, 1]\n",
      "[]\n",
      "[0, 1, 2, 3, 4, 4, 5, 9]\n",
      "[1, 2, 3, 4, 5]\n"
     ]
    }
   ],
   "source": [
    "l1=[1,2,3,4,5]\n",
    "l2=[1,2,3,4]\n",
    "l3=[1,2,3,4,4,5,0,9]\n",
    "l4=[1,2,3,4,5]\n",
    "l2.clear()\n",
    "l1.reverse()\n",
    "l3.sort()\n",
    "print(l4.index(2))\n",
    "print(l1)\n",
    "print(l2)\n",
    "print(l3)\n",
    "print(l4)"
   ]
  },
  {
   "cell_type": "code",
   "execution_count": 67,
   "id": "fdc1a7a8-61ba-4387-9657-2d124759c101",
   "metadata": {},
   "outputs": [
    {
     "name": "stdout",
     "output_type": "stream",
     "text": [
      "3\n",
      "4\n",
      "4\n"
     ]
    }
   ],
   "source": [
    "l1=[1,2,3,4,3,4,56,7,8,3,3,5,4,4,]\n",
    "print(l1.index(4))\n",
    "print(l1.count(4))\n",
    "print(l1.count(3))\n",
    "\n"
   ]
  },
  {
   "cell_type": "code",
   "execution_count": 5,
   "id": "32ce0f95-6780-44c4-a63c-d7da9576fc16",
   "metadata": {},
   "outputs": [
    {
     "data": {
      "text/plain": [
       "[1, 2, 3, 4, 5]"
      ]
     },
     "execution_count": 5,
     "metadata": {},
     "output_type": "execute_result"
    }
   ],
   "source": [
    "[a+1 for a in range(5)]\n",
    "\n"
   ]
  },
  {
   "cell_type": "code",
   "execution_count": 6,
   "id": "bf2713b3-47bc-479b-92c4-e655e5b38f1c",
   "metadata": {},
   "outputs": [
    {
     "data": {
      "text/plain": [
       "[7, 7, 7, 7, 7]"
      ]
     },
     "execution_count": 6,
     "metadata": {},
     "output_type": "execute_result"
    }
   ],
   "source": [
    "[3+4  for a in range(5)]"
   ]
  },
  {
   "cell_type": "code",
   "execution_count": 7,
   "id": "ce7ecafc-b08e-4cc7-a827-1eee0396b99d",
   "metadata": {},
   "outputs": [
    {
     "data": {
      "text/plain": [
       "[4, 16, 36, 64]"
      ]
     },
     "execution_count": 7,
     "metadata": {},
     "output_type": "execute_result"
    }
   ],
   "source": [
    "[a**2 for a in range( 2 , 10 ,2)]"
   ]
  },
  {
   "cell_type": "code",
   "execution_count": 11,
   "id": "0763c3f4-9f0b-4d6c-b3a3-4a14021df75d",
   "metadata": {},
   "outputs": [
    {
     "name": "stdin",
     "output_type": "stream",
     "text": [
      "enter no. 5\n"
     ]
    }
   ],
   "source": [
    "oddnum=[2*e-1 for e in range(1,int(input(\"enter no.\")))]"
   ]
  },
  {
   "cell_type": "code",
   "execution_count": 18,
   "id": "59f0498e-1d35-469e-b7d4-781fbec07492",
   "metadata": {},
   "outputs": [
    {
     "name": "stdin",
     "output_type": "stream",
     "text": [
      "enter a no. 10\n"
     ]
    },
    {
     "name": "stdout",
     "output_type": "stream",
     "text": [
      "[1, 3, 5, 7, 9, 11, 13, 15, 17, 19]\n"
     ]
    }
   ],
   "source": [
    "n=int(input(\"enter a no.\"))\n",
    "oddnum=[2*i-1 for i in range(1,n+1)]\n",
    "print(oddnum)"
   ]
  },
  {
   "cell_type": "code",
   "execution_count": 16,
   "id": "c71bec55-9ab4-41b0-90f4-e3d2cbd64cbd",
   "metadata": {},
   "outputs": [
    {
     "name": "stdin",
     "output_type": "stream",
     "text": [
      "Enter the number of odd natural numbers:  12\n"
     ]
    },
    {
     "name": "stdout",
     "output_type": "stream",
     "text": [
      "First 12 odd natural numbers: [1, 3, 5, 7, 9, 11, 13, 15, 17, 19, 21, 23]\n"
     ]
    }
   ],
   "source": [
    "n = int(input(\"Enter the number of odd natural numbers: \"))\n",
    "odd_numbers = [2*i - 1 for i in range(1, n + 1)]\n",
    "print(\"First\", n, \"odd natural numbers:\", odd_numbers)\n"
   ]
  },
  {
   "cell_type": "markdown",
   "id": "2f3d8248-40a3-49d5-833b-65d0eb164723",
   "metadata": {},
   "source": [
    "# end"
   ]
  },
  {
   "cell_type": "code",
   "execution_count": null,
   "id": "b667a977-4c69-44b2-9b50-65421433e1af",
   "metadata": {},
   "outputs": [],
   "source": []
  }
 ],
 "metadata": {
  "kernelspec": {
   "display_name": "Python 3 (ipykernel)",
   "language": "python",
   "name": "python3"
  },
  "language_info": {
   "codemirror_mode": {
    "name": "ipython",
    "version": 3
   },
   "file_extension": ".py",
   "mimetype": "text/x-python",
   "name": "python",
   "nbconvert_exporter": "python",
   "pygments_lexer": "ipython3",
   "version": "3.13.3"
  }
 },
 "nbformat": 4,
 "nbformat_minor": 5
}
