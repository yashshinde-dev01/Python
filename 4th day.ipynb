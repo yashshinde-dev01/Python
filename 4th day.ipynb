{
 "cells": [
  {
   "cell_type": "markdown",
   "id": "daaa873b-4fe5-48fe-9522-3aa2e8b6dcaa",
   "metadata": {},
   "source": [
    "# slicing operator"
   ]
  },
  {
   "cell_type": "code",
   "execution_count": 12,
   "id": "b36cfaaa-a5ce-4a8f-bc95-951606b24040",
   "metadata": {},
   "outputs": [
    {
     "data": {
      "text/plain": [
       "'yr'"
      ]
     },
     "execution_count": 12,
     "metadata": {},
     "output_type": "execute_result"
    }
   ],
   "source": [
    "s1=\" mysirg\"\n",
    "s1[0:4:1]\n",
    "s2=\"yash\"\n",
    "s2[:4:2]\n",
    "s3=\"mysirG\"\n",
    "s3[1:5:3]\n",
    "\n",
    "\n",
    "\n"
   ]
  },
  {
   "cell_type": "code",
   "execution_count": 28,
   "id": "ae9bfcb7-3d4a-46c1-aaa8-47e171adfafe",
   "metadata": {},
   "outputs": [
    {
     "data": {
      "text/plain": [
       "'Mysirg'"
      ]
     },
     "execution_count": 28,
     "metadata": {},
     "output_type": "execute_result"
    }
   ],
   "source": [
    "s=\"Mysirg\"\n",
    "s[ :5:1]\n",
    "s[ :0:-1]\n",
    "s[ ::-2]\n",
    "s[5::-1]\n",
    "s[::-1]\n",
    "s[::]"
   ]
  },
  {
   "cell_type": "code",
   "execution_count": 24,
   "id": "4fa0da87-b8dc-4977-be17-3423b85c5f24",
   "metadata": {},
   "outputs": [
    {
     "data": {
      "text/plain": [
       "'.rupahlok glc litap y.d ta gniduts yltnerruc ma i dna ednohs hsaahbuss hsay si eman ym olleh '"
      ]
     },
     "execution_count": 24,
     "metadata": {},
     "output_type": "execute_result"
    }
   ],
   "source": [
    "h=\" hello my name is yash ssubhaash shonde and i am currently studing at d.y patil clg kolhapur.\"\n",
    "h[::-1]"
   ]
  },
  {
   "cell_type": "code",
   "execution_count": 26,
   "id": "08d9b81d-1ed6-4164-8357-fe69c46b5834",
   "metadata": {},
   "outputs": [
    {
     "data": {
      "text/plain": [
       "' hello my name is yash ssubhaash shonde and i am currently studing at d.y patil clg kolhapur.'"
      ]
     },
     "execution_count": 26,
     "metadata": {},
     "output_type": "execute_result"
    }
   ],
   "source": [
    "m=\".rupahlok glc litap y.d ta gniduts yltnerruc ma i dna ednohs hsaahbuss hsay si eman ym olleh \"\n",
    "m[::-1]"
   ]
  },
  {
   "cell_type": "code",
   "execution_count": null,
   "id": "479f56c6-1e59-4f6f-af3d-c7fa2cf91b26",
   "metadata": {},
   "outputs": [],
   "source": [
    "import openai\n",
    "openai.api_key=\"your api-key\"\n",
    "response=openai.Complection.create(\n",
    "    engine=\"text-davinci-003\";\n",
    "    prompt=\"Write a short story about brave cat\";\n",
    "\n",
    "    max_token=100\n",
    ")\n",
    "print(response.choices[0].text)r"
   ]
  }
 ],
 "metadata": {
  "kernelspec": {
   "display_name": "Python 3 (ipykernel)",
   "language": "python",
   "name": "python3"
  },
  "language_info": {
   "codemirror_mode": {
    "name": "ipython",
    "version": 3
   },
   "file_extension": ".py",
   "mimetype": "text/x-python",
   "name": "python",
   "nbconvert_exporter": "python",
   "pygments_lexer": "ipython3",
   "version": "3.13.3"
  }
 },
 "nbformat": 4,
 "nbformat_minor": 5
}
