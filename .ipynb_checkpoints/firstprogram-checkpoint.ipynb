{
 "cells": [
  {
   "cell_type": "markdown",
   "id": "6bf31db5-673f-4207-a9c3-6d5123ea7a1d",
   "metadata": {},
   "source": [
    "# Basic python program"
   ]
  },
  {
   "cell_type": "code",
   "execution_count": 6,
   "id": "28d4aa51-f39c-48a1-8430-955eaf2deacb",
   "metadata": {},
   "outputs": [
    {
     "name": "stdout",
     "output_type": "stream",
     "text": [
      "24\n"
     ]
    }
   ],
   "source": [
    "print(12+12)"
   ]
  },
  {
   "cell_type": "code",
   "execution_count": null,
   "id": "7bb87835-bb08-48d5-9c88-2242d1310646",
   "metadata": {},
   "outputs": [],
   "source": []
  },
  {
   "cell_type": "code",
   "execution_count": null,
   "id": "27e05e97-a135-4220-92c5-d0db64999888",
   "metadata": {},
   "outputs": [],
   "source": []
  },
  {
   "cell_type": "code",
   "execution_count": 1,
   "id": "0a23d243-6b2b-46c9-85ee-b299e9af64bc",
   "metadata": {},
   "outputs": [
    {
     "name": "stdout",
     "output_type": "stream",
     "text": [
      "hi\n"
     ]
    }
   ],
   "source": [
    "print(\"hi\")"
   ]
  },
  {
   "cell_type": "code",
   "execution_count": 3,
   "id": "18b56a2d-5bbd-457d-af8d-8a26f1224834",
   "metadata": {},
   "outputs": [
    {
     "name": "stdout",
     "output_type": "stream",
     "text": [
      "by\n"
     ]
    }
   ],
   "source": [
    "print(\"by\")"
   ]
  },
  {
   "cell_type": "code",
   "execution_count": 4,
   "id": "6e15d517-3743-4aaf-bdac-35cbc4eb1d34",
   "metadata": {},
   "outputs": [
    {
     "name": "stdout",
     "output_type": "stream",
     "text": [
      "by\n"
     ]
    }
   ],
   "source": [
    "print(\"by\")"
   ]
  },
  {
   "cell_type": "code",
   "execution_count": 5,
   "id": "53f5096f-da9b-4313-9e04-ed59fb0a9a1b",
   "metadata": {},
   "outputs": [
    {
     "name": "stdout",
     "output_type": "stream",
     "text": [
      "by\n"
     ]
    }
   ],
   "source": [
    "print(\"by\")"
   ]
  },
  {
   "cell_type": "code",
   "execution_count": null,
   "id": "eb77c16d-2bcf-4feb-9167-931db9437237",
   "metadata": {},
   "outputs": [],
   "source": []
  }
 ],
 "metadata": {
  "kernelspec": {
   "display_name": "Python 3 (ipykernel)",
   "language": "python",
   "name": "python3"
  },
  "language_info": {
   "codemirror_mode": {
    "name": "ipython",
    "version": 3
   },
   "file_extension": ".py",
   "mimetype": "text/x-python",
   "name": "python",
   "nbconvert_exporter": "python",
   "pygments_lexer": "ipython3",
   "version": "3.13.3"
  }
 },
 "nbformat": 4,
 "nbformat_minor": 5
}
