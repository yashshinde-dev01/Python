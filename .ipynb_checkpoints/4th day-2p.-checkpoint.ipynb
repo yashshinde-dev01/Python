{
 "cells": [
  {
   "cell_type": "markdown",
   "id": "ea3467b8-f350-4be6-8ae9-7596c293b1be",
   "metadata": {},
   "source": [
    "# tuple"
   ]
  },
  {
   "cell_type": "code",
   "execution_count": 26,
   "id": "8d5633fd-e91a-42b4-a51a-2123c5621733",
   "metadata": {},
   "outputs": [
    {
     "name": "stdout",
     "output_type": "stream",
     "text": [
      "<class 'tuple'>\n",
      "<class 'int'>\n",
      "<class 'tuple'>\n",
      "<class 'tuple'>\n",
      "3\n",
      "1\n",
      "1\n",
      "9\n",
      "[1, 2, 3, 4, 9]\n",
      "9\n",
      "1\n",
      "4\n",
      "2\n",
      "3\n",
      "9\n"
     ]
    }
   ],
   "source": [
    "t1=(1,4,2,3,9)\n",
    "print(type(t1))\n",
    "t2=(1)\n",
    "print(type(t2))\n",
    "t3=(1,)\n",
    "print(type(t3))\n",
    "t4=1,2,3,4\n",
    "print(type(t4))\n",
    "print(t4.index(4))\n",
    "print(len(t3))\n",
    "print(min(t4))\n",
    "print(max(t1))\n",
    "print(sorted(t1))\n",
    "print(t1[4])\n",
    "i=0\n",
    "while(i<len(t1)):\n",
    "    print(t1[i])\n",
    "    i+=1"
   ]
  },
  {
   "cell_type": "code",
   "execution_count": 20,
   "id": "73dcf421-5f6d-4bbd-a271-32db2fc07cfc",
   "metadata": {},
   "outputs": [
    {
     "name": "stdout",
     "output_type": "stream",
     "text": [
      "1\n",
      "2\n",
      "3\n",
      "4\n",
      "5\n",
      "8\n"
     ]
    }
   ],
   "source": [
    "t5=(1,2,3,4,5,8)\n",
    "a=0\n",
    "while (a<len(t1)):\n",
    "    print(t5[a])\n",
    "    a+= 1"
   ]
  },
  {
   "cell_type": "code",
   "execution_count": 27,
   "id": "5d758063-f6c5-42b6-ae6b-6b49dfd182c3",
   "metadata": {},
   "outputs": [
    {
     "name": "stdout",
     "output_type": "stream",
     "text": [
      "2\n",
      "3\n",
      "6\n",
      "6\n",
      "7\n",
      "9\n"
     ]
    }
   ],
   "source": [
    "t6=(2,3,6,6,7,9)\n",
    "for a in t6:\n",
    "    print(a)"
   ]
  },
  {
   "cell_type": "code",
   "execution_count": 44,
   "id": "74c908a4-0537-4439-b5e3-861ca619ace4",
   "metadata": {},
   "outputs": [
    {
     "name": "stdout",
     "output_type": "stream",
     "text": [
      "(1, 12, 3, 4.6, 'yash', 11, 1, 8, 7, 6, 5, 'shinde', 2, 1, 1, 1)\n",
      "(1, 12, 3, 4.6, 'yash', 11, 1, 12, 3, 4.6, 'yash', 11, 1, 12, 3, 4.6, 'yash', 11)\n",
      "4\n",
      "4\n"
     ]
    }
   ],
   "source": [
    "t7=( 1,12,3,4.6,\"yash\",11)\n",
    "t8=(1,8,7,6,5,\"shinde\",2,1,1,1)\n",
    "print(t7+t8)\n",
    "print(t7*3)\n",
    "t7>t8\n",
    "print(t7.index(\"yash\"))\n",
    "print(t8.count(1))"
   ]
  },
  {
   "cell_type": "code",
   "execution_count": 2,
   "id": "920c917c-0ff0-41a5-bea1-b6e130e2e660",
   "metadata": {},
   "outputs": [
    {
     "data": {
      "text/plain": [
       "(5, 4, 3, 1, 9, 2, 3, 4, 10)"
      ]
     },
     "execution_count": 2,
     "metadata": {},
     "output_type": "execute_result"
    }
   ],
   "source": [
    "t10=(10,4,3,2,9,1,3,4,5)\n",
    "t10[2:8:2]\n",
    "t10[::-1]"
   ]
  },
  {
   "cell_type": "code",
   "execution_count": null,
   "id": "5b61afc4-64e0-4a01-841b-e51937824e9f",
   "metadata": {},
   "outputs": [],
   "source": []
  }
 ],
 "metadata": {
  "kernelspec": {
   "display_name": "Python 3 (ipykernel)",
   "language": "python",
   "name": "python3"
  },
  "language_info": {
   "codemirror_mode": {
    "name": "ipython",
    "version": 3
   },
   "file_extension": ".py",
   "mimetype": "text/x-python",
   "name": "python",
   "nbconvert_exporter": "python",
   "pygments_lexer": "ipython3",
   "version": "3.13.3"
  }
 },
 "nbformat": 4,
 "nbformat_minor": 5
}
