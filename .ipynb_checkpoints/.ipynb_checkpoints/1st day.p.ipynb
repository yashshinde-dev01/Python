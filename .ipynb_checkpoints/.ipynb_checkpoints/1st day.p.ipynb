{
 "cells": [
  {
   "cell_type": "code",
   "execution_count": 12,
   "id": "d24c6721-7fb6-417b-9ea1-a9344ef6faa2",
   "metadata": {},
   "outputs": [
    {
     "name": "stdout",
     "output_type": "stream",
     "text": [
      "11.7\n"
     ]
    },
    {
     "data": {
      "text/plain": [
       "float"
      ]
     },
     "execution_count": 12,
     "metadata": {},
     "output_type": "execute_result"
    }
   ],
   "source": [
    "x=5.7\n",
    "y=6\n",
    "print(x+y)\n",
    "type(x+y)\n",
    "\n",
    "\n",
    "\n",
    "    "
   ]
  },
  {
   "cell_type": "code",
   "execution_count": 14,
   "id": "a140b052-b51d-42b2-a708-84eff005acdf",
   "metadata": {},
   "outputs": [
    {
     "name": "stdout",
     "output_type": "stream",
     "text": [
      "5-6-7&hello"
     ]
    }
   ],
   "source": [
    "a=5\n",
    "b=6\n",
    "c=7\n",
    "print(a,b,c,sep=\"-\",end='&' \"hello\")"
   ]
  },
  {
   "cell_type": "code",
   "execution_count": 19,
   "id": "fe5156d0-f961-479a-a769-ee1377bd3e2a",
   "metadata": {},
   "outputs": [
    {
     "name": "stdout",
     "output_type": "stream",
     "text": [
      "1 5\n"
     ]
    }
   ],
   "source": [
    "a,b,c=1,2,3\n",
    "print(a,b+c)"
   ]
  },
  {
   "cell_type": "code",
   "execution_count": 25,
   "id": "5c823ce0-b342-4bfa-869e-c4bef9ffa98c",
   "metadata": {},
   "outputs": [
    {
     "name": "stdout",
     "output_type": "stream",
     "text": [
      "32\n"
     ]
    },
    {
     "data": {
      "text/plain": [
       "14"
      ]
     },
     "execution_count": 25,
     "metadata": {},
     "output_type": "execute_result"
    }
   ],
   "source": [
    "j=4*8\n",
    "print(j)\n",
    "7+7"
   ]
  },
  {
   "cell_type": "markdown",
   "id": "71c8ed53-32b9-483a-a656-a56600646dc6",
   "metadata": {},
   "source": []
  },
  {
   "cell_type": "code",
   "execution_count": 2,
   "id": "ef585631-e131-4354-b65b-70fe3dcd7b10",
   "metadata": {},
   "outputs": [
    {
     "data": {
      "text/plain": [
       "True"
      ]
     },
     "execution_count": 2,
     "metadata": {},
     "output_type": "execute_result"
    }
   ],
   "source": [
    "y=\"mysirji\"\n",
    "\"my\" in y\n"
   ]
  },
  {
   "cell_type": "code",
   "execution_count": 3,
   "id": "055c361d-c9b9-4559-8ff1-8975b7693f6a",
   "metadata": {},
   "outputs": [
    {
     "name": "stdout",
     "output_type": "stream",
     "text": [
      "yash\n"
     ]
    }
   ],
   "source": [
    "print(\"yash\")"
   ]
  },
  {
   "cell_type": "markdown",
   "id": "7ae874f5-3578-4c15-816d-280b7c2529b9",
   "metadata": {},
   "source": [
    "\n",
    "\n",
    "\n",
    "print(\"enter a two number\")\n",
    "a=int(input(a,b))\n",
    "c=a+b\n",
    "print(C)"
   ]
  },
  {
   "cell_type": "code",
   "execution_count": 4,
   "id": "85b5a327-36c2-4ec2-9394-a94c7f476c98",
   "metadata": {},
   "outputs": [
    {
     "name": "stdout",
     "output_type": "stream",
     "text": [
      "enter your name\n"
     ]
    },
    {
     "name": "stdout",
     "output_type": "stream",
     "text": [
      " yash shinde\n"
     ]
    },
    {
     "name": "stdout",
     "output_type": "stream",
     "text": [
      "hello yash shinde\n"
     ]
    }
   ],
   "source": [
    "print(\"enter your name\")\n",
    "x=input()\n",
    "print(\"hello\",x)"
   ]
  },
  {
   "cell_type": "code",
   "execution_count": 13,
   "id": "9f303d31-7c3f-4c55-a237-836e256cc5df",
   "metadata": {},
   "outputs": [
    {
     "name": "stdout",
     "output_type": "stream",
     "text": [
      "summation is 10\n",
      "subtraction is  -4\n",
      "divide is  0.42857142857142855\n",
      "multiply is 21\n"
     ]
    }
   ],
   "source": [
    "a= 3\n",
    "b=7\n",
    "print(\"summation is\",a+b)\n",
    "print(\"subtraction is \",a-b)\n",
    "print(\"divide is \",a/b)\n",
    "print(\"multiply is\",a*b)\n",
    "     "
   ]
  },
  {
   "cell_type": "markdown",
   "id": "d20cf925-80b4-4361-8415-cb0b34b440af",
   "metadata": {},
   "source": [
    "# decision control"
   ]
  },
  {
   "cell_type": "code",
   "execution_count": 30,
   "id": "e9e0287f-c494-42ed-b650-96a5df1dab1e",
   "metadata": {},
   "outputs": [
    {
     "name": "stdout",
     "output_type": "stream",
     "text": [
      "2\n"
     ]
    },
    {
     "data": {
      "text/plain": [
       "True"
      ]
     },
     "execution_count": 30,
     "metadata": {},
     "output_type": "execute_result"
    }
   ],
   "source": [
    "x=5+int(\"5\") ,print(x)\n",
    "x=2\n",
    "complex(x)\n",
    "bin(x)\n",
    "bool(x)"
   ]
  },
  {
   "cell_type": "markdown",
   "id": "f610c47d-0197-4d26-913b-1fe0af462de1",
   "metadata": {},
   "source": [
    "# if , if else , if else if , single line if else"
   ]
  },
  {
   "cell_type": "code",
   "execution_count": 33,
   "id": "6c25db8b-0886-477a-8daf-462b64c0c021",
   "metadata": {},
   "outputs": [
    {
     "name": "stdout",
     "output_type": "stream",
     "text": [
      "no\n"
     ]
    }
   ],
   "source": [
    "x=-4\n",
    "if x>0:\n",
    "    print(\"ok\")\n",
    "else:\n",
    "    print(\"no\")"
   ]
  },
  {
   "cell_type": "code",
   "execution_count": 34,
   "id": "0c692558-3b09-4544-8b63-cbd39a713690",
   "metadata": {},
   "outputs": [
    {
     "name": "stdout",
     "output_type": "stream",
     "text": [
      "enter a number\n"
     ]
    },
    {
     "name": "stdout",
     "output_type": "stream",
     "text": [
      " -8\n"
     ]
    },
    {
     "name": "stdout",
     "output_type": "stream",
     "text": [
      "number is negative\n"
     ]
    }
   ],
   "source": [
    "print(\"enter a number\")\n",
    "n=int(input())\n",
    "if n>0:\n",
    "    print(\"number is positive\")\n",
    "elif n<0:\n",
    "    print(\"number is negative\")"
   ]
  },
  {
   "cell_type": "markdown",
   "id": "f939a2c4-5b5f-40fd-a8ae-3fad5d31fda5",
   "metadata": {},
   "source": [
    "# to chek odd even number"
   ]
  },
  {
   "cell_type": "code",
   "execution_count": 40,
   "id": "d4c2802f-626d-4995-bcee-2d7615eda14e",
   "metadata": {},
   "outputs": [
    {
     "name": "stdout",
     "output_type": "stream",
     "text": [
      "enter a number 7\n"
     ]
    },
    {
     "name": "stdout",
     "output_type": "stream",
     "text": [
      "number is odd\n"
     ]
    }
   ],
   "source": [
    "x=int(input(\"enter a number\"))\n",
    "\n",
    "if x%2==0:\n",
    "      print(\"number is even\")\n",
    "else:\n",
    "      print(\"number is odd\")\n",
    "      "
   ]
  },
  {
   "cell_type": "markdown",
   "id": "3dbae596-1399-49da-878a-37ea008fd627",
   "metadata": {},
   "source": [
    "# loops while loop, break loop,for loop"
   ]
  },
  {
   "cell_type": "code",
   "execution_count": 41,
   "id": "005df5a0-6144-4f4e-bc62-8ddd81bb2e8d",
   "metadata": {},
   "outputs": [
    {
     "name": "stdout",
     "output_type": "stream",
     "text": [
      "mysirg\n",
      "mysirg\n",
      "mysirg\n",
      "mysirg\n",
      "mysirg\n"
     ]
    }
   ],
   "source": [
    "i=1\n",
    "while i<=5:\n",
    "    print(\"mysirg\")\n",
    "    i+=1"
   ]
  },
  {
   "cell_type": "code",
   "execution_count": 45,
   "id": "23b4c30a-9881-451f-a43a-53bc02ca7982",
   "metadata": {},
   "outputs": [
    {
     "name": "stdout",
     "output_type": "stream",
     "text": [
      "enter a no. 9\n"
     ]
    },
    {
     "name": "stdout",
     "output_type": "stream",
     "text": [
      "1 2 3 4 5 6 7 8 9 "
     ]
    }
   ],
   "source": [
    "n=int(input(\"enter a no.\"))\n",
    "i=1\n",
    "while i<=n: \n",
    "      print(i,end=\" \")\n",
    "      i+=1"
   ]
  },
  {
   "cell_type": "code",
   "execution_count": 51,
   "id": "299e345c-1c15-4c31-8f0d-59927ac489fa",
   "metadata": {},
   "outputs": [
    {
     "name": "stdout",
     "output_type": "stream",
     "text": [
      "enter a value of n 5\n"
     ]
    },
    {
     "name": "stdout",
     "output_type": "stream",
     "text": [
      "prime\n"
     ]
    }
   ],
   "source": [
    "n=int(input(\"enter a value of n\"))\n",
    "i=2\n",
    "while i<=n-1:\n",
    "    if n%i==0:\n",
    "       print(\"not prime\")\n",
    "       break;\n",
    "    i+=1\n",
    "else:\n",
    "    print(\"prime\")\n",
    "\n"
   ]
  },
  {
   "cell_type": "code",
   "execution_count": null,
   "id": "f16b1db1-f245-44cc-9ad5-5577381f8451",
   "metadata": {},
   "outputs": [],
   "source": []
  }
 ],
 "metadata": {
  "kernelspec": {
   "display_name": "Python 3 (ipykernel)",
   "language": "python",
   "name": "python3"
  },
  "language_info": {
   "codemirror_mode": {
    "name": "ipython",
    "version": 3
   },
   "file_extension": ".py",
   "mimetype": "text/x-python",
   "name": "python",
   "nbconvert_exporter": "python",
   "pygments_lexer": "ipython3",
   "version": "3.13.3"
  }
 },
 "nbformat": 4,
 "nbformat_minor": 5
}
