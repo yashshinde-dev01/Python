{
 "cells": [
  {
   "cell_type": "markdown",
   "id": "3f20e054-682d-48de-9666-7e1e0669cb3a",
   "metadata": {},
   "source": [
    "# range"
   ]
  },
  {
   "cell_type": "code",
   "execution_count": 5,
   "id": "d724448a-a6da-4028-bb58-0173a5a22f5c",
   "metadata": {},
   "outputs": [
    {
     "name": "stdin",
     "output_type": "stream",
     "text": [
      "enter a value 4\n"
     ]
    },
    {
     "name": "stdout",
     "output_type": "stream",
     "text": [
      "1\n",
      "2\n",
      "3\n",
      "4\n"
     ]
    }
   ],
   "source": [
    "n=int(input(\"enter a value\"))\n",
    "a=range(1,n+1)\n",
    "for i in a:\n",
    "    print(i)\n",
    "\n",
    "    "
   ]
  },
  {
   "cell_type": "markdown",
   "id": "a647210c-3233-4b23-bd57-b5808ec44b00",
   "metadata": {},
   "source": [
    "# list"
   ]
  },
  {
   "cell_type": "code",
   "execution_count": 8,
   "id": "7f1aa5f6-7940-4e37-8491-0365c59831cf",
   "metadata": {},
   "outputs": [
    {
     "name": "stdout",
     "output_type": "stream",
     "text": [
      "[1, -3, 0.3, 'yash']\n",
      "<class 'list'>\n"
     ]
    }
   ],
   "source": [
    "l=[ 1,-3,0.3,\"yash\"]\n",
    "print(l)\n",
    "print(type(l))\n",
    "\n"
   ]
  },
  {
   "cell_type": "code",
   "execution_count": 17,
   "id": "1ee45c8f-e0a3-4972-8248-88da245ea46c",
   "metadata": {},
   "outputs": [
    {
     "name": "stdout",
     "output_type": "stream",
     "text": [
      "30 30\n"
     ]
    }
   ],
   "source": [
    "l1=[10,20,30,40,50]\n",
    "print(l1[2],l1[-3],\n",
    "     )\n"
   ]
  },
  {
   "cell_type": "code",
   "execution_count": 19,
   "id": "74764f85-2b56-4984-bcd7-c41be616f975",
   "metadata": {},
   "outputs": [
    {
     "name": "stdout",
     "output_type": "stream",
     "text": [
      "10 20 30 40 "
     ]
    }
   ],
   "source": [
    "l2=[10,20,30,40]\n",
    "for i in l2:\n",
    "    print(i,end=' ')"
   ]
  },
  {
   "cell_type": "code",
   "execution_count": 26,
   "id": "98e3ef43-c813-4194-8fbd-bf2eda585a39",
   "metadata": {},
   "outputs": [
    {
     "name": "stdout",
     "output_type": "stream",
     "text": [
      "[50, 40, 30, 10]\n",
      "[50, 80, 30, 10]\n"
     ]
    }
   ],
   "source": [
    "l3=[50,40,30,20,10]\n",
    "del l3[3]\n",
    "print(l3)\n",
    "l3[1]=80\n",
    "print(l3)\n"
   ]
  },
  {
   "cell_type": "code",
   "execution_count": null,
   "id": "16665250-a3fe-4dd6-869c-65fecd3ce268",
   "metadata": {},
   "outputs": [],
   "source": []
  }
 ],
 "metadata": {
  "kernelspec": {
   "display_name": "Python 3 (ipykernel)",
   "language": "python",
   "name": "python3"
  },
  "language_info": {
   "codemirror_mode": {
    "name": "ipython",
    "version": 3
   },
   "file_extension": ".py",
   "mimetype": "text/x-python",
   "name": "python",
   "nbconvert_exporter": "python",
   "pygments_lexer": "ipython3",
   "version": "3.13.3"
  }
 },
 "nbformat": 4,
 "nbformat_minor": 5
}
